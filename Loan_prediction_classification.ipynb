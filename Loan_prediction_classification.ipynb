{
 "cells": [
  {
   "cell_type": "markdown",
   "metadata": {},
   "source": [
    "## Loan Prediction"
   ]
  },
  {
   "cell_type": "code",
   "execution_count": 227,
   "metadata": {},
   "outputs": [],
   "source": [
    "import pandas as pd\n",
    "import numpy as np\n",
    "from sklearn.model_selection import train_test_split\n",
    "import matplotlib.pyplot as plt\n",
    "import seaborn as sns\n",
    "from sklearn.linear_model import LogisticRegression\n",
    "from sklearn.svm import LinearSVC\n",
    "from sklearn.tree import DecisionTreeClassifier\n",
    "from sklearn.neighbors import KNeighborsClassifier\n",
    "from sklearn.metrics import classification_report\n",
    "from sklearn.metrics import accuracy_score\n",
    "from sklearn.ensemble import BaggingClassifier\n",
    "from sklearn.metrics import confusion_matrix as cm\n",
    "from sklearn.ensemble import AdaBoostClassifier"
   ]
  },
  {
   "cell_type": "code",
   "execution_count": 228,
   "metadata": {},
   "outputs": [],
   "source": [
    "loan = pd.read_csv(r'C:\\Users\\admin\\Desktop\\Skillathon\\loan_prediction.csv')"
   ]
  },
  {
   "cell_type": "markdown",
   "metadata": {},
   "source": [
    "## Undertanding the data"
   ]
  },
  {
   "cell_type": "code",
   "execution_count": 229,
   "metadata": {},
   "outputs": [
    {
     "name": "stdout",
     "output_type": "stream",
     "text": [
      "Features \n",
      " Index(['Loan_ID', 'Gender', 'Married', 'Dependents', 'Education',\n",
      "       'Self_Employed', 'ApplicantIncome', 'CoapplicantIncome', 'LoanAmount',\n",
      "       'Loan_Amount_Term', 'Credit_History', 'Property_Area', 'Loan_Status'],\n",
      "      dtype='object')\n",
      "<class 'pandas.core.frame.DataFrame'>\n",
      "RangeIndex: 614 entries, 0 to 613\n",
      "Data columns (total 13 columns):\n",
      "Loan_ID              614 non-null object\n",
      "Gender               601 non-null object\n",
      "Married              611 non-null object\n",
      "Dependents           599 non-null object\n",
      "Education            614 non-null object\n",
      "Self_Employed        582 non-null object\n",
      "ApplicantIncome      614 non-null int64\n",
      "CoapplicantIncome    614 non-null float64\n",
      "LoanAmount           592 non-null float64\n",
      "Loan_Amount_Term     600 non-null float64\n",
      "Credit_History       564 non-null float64\n",
      "Property_Area        614 non-null object\n",
      "Loan_Status          614 non-null object\n",
      "dtypes: float64(4), int64(1), object(8)\n",
      "memory usage: 62.5+ KB\n",
      "None\n",
      "\n",
      "\n",
      " Description \n",
      "        ApplicantIncome  CoapplicantIncome  LoanAmount  Loan_Amount_Term  \\\n",
      "count       614.000000         614.000000  592.000000         600.00000   \n",
      "mean       5403.459283        1621.245798  146.412162         342.00000   \n",
      "std        6109.041673        2926.248369   85.587325          65.12041   \n",
      "min         150.000000           0.000000    9.000000          12.00000   \n",
      "25%        2877.500000           0.000000  100.000000         360.00000   \n",
      "50%        3812.500000        1188.500000  128.000000         360.00000   \n",
      "75%        5795.000000        2297.250000  168.000000         360.00000   \n",
      "max       81000.000000       41667.000000  700.000000         480.00000   \n",
      "\n",
      "       Credit_History  \n",
      "count      564.000000  \n",
      "mean         0.842199  \n",
      "std          0.364878  \n",
      "min          0.000000  \n",
      "25%          1.000000  \n",
      "50%          1.000000  \n",
      "75%          1.000000  \n",
      "max          1.000000  \n",
      "\n",
      "\n",
      " Datset \n",
      "     Loan_ID Gender Married Dependents     Education Self_Employed  \\\n",
      "0  LP001002   Male      No          0      Graduate            No   \n",
      "1  LP001003   Male     Yes          1      Graduate            No   \n",
      "2  LP001005   Male     Yes          0      Graduate           Yes   \n",
      "3  LP001006   Male     Yes          0  Not Graduate            No   \n",
      "4  LP001008   Male      No          0      Graduate            No   \n",
      "\n",
      "   ApplicantIncome  CoapplicantIncome  LoanAmount  Loan_Amount_Term  \\\n",
      "0             5849                0.0         NaN             360.0   \n",
      "1             4583             1508.0       128.0             360.0   \n",
      "2             3000                0.0        66.0             360.0   \n",
      "3             2583             2358.0       120.0             360.0   \n",
      "4             6000                0.0       141.0             360.0   \n",
      "\n",
      "   Credit_History Property_Area Loan_Status  \n",
      "0             1.0         Urban           Y  \n",
      "1             1.0         Rural           N  \n",
      "2             1.0         Urban           Y  \n",
      "3             1.0         Urban           Y  \n",
      "4             1.0         Urban           Y  \n"
     ]
    }
   ],
   "source": [
    "print(\"Features \\n\",loan.columns)\n",
    "print(loan.info())\n",
    "print(\"\\n\\n Description \\n\",loan.describe())\n",
    "print(\"\\n\\n Datset \\n\",loan.head())"
   ]
  },
  {
   "cell_type": "code",
   "execution_count": 230,
   "metadata": {},
   "outputs": [
    {
     "data": {
      "text/html": [
       "<div>\n",
       "<style scoped>\n",
       "    .dataframe tbody tr th:only-of-type {\n",
       "        vertical-align: middle;\n",
       "    }\n",
       "\n",
       "    .dataframe tbody tr th {\n",
       "        vertical-align: top;\n",
       "    }\n",
       "\n",
       "    .dataframe thead th {\n",
       "        text-align: right;\n",
       "    }\n",
       "</style>\n",
       "<table border=\"1\" class=\"dataframe\">\n",
       "  <thead>\n",
       "    <tr style=\"text-align: right;\">\n",
       "      <th></th>\n",
       "      <th>Loan_ID</th>\n",
       "      <th>Gender</th>\n",
       "      <th>Married</th>\n",
       "      <th>Dependents</th>\n",
       "      <th>Education</th>\n",
       "      <th>Self_Employed</th>\n",
       "      <th>ApplicantIncome</th>\n",
       "      <th>CoapplicantIncome</th>\n",
       "      <th>LoanAmount</th>\n",
       "      <th>Loan_Amount_Term</th>\n",
       "      <th>Credit_History</th>\n",
       "      <th>Property_Area</th>\n",
       "      <th>Loan_Status</th>\n",
       "    </tr>\n",
       "  </thead>\n",
       "  <tbody>\n",
       "    <tr>\n",
       "      <td>372</td>\n",
       "      <td>LP002201</td>\n",
       "      <td>Male</td>\n",
       "      <td>Yes</td>\n",
       "      <td>2</td>\n",
       "      <td>Graduate</td>\n",
       "      <td>Yes</td>\n",
       "      <td>9323</td>\n",
       "      <td>7873.0</td>\n",
       "      <td>380.0</td>\n",
       "      <td>300.0</td>\n",
       "      <td>1.0</td>\n",
       "      <td>Rural</td>\n",
       "      <td>Y</td>\n",
       "    </tr>\n",
       "  </tbody>\n",
       "</table>\n",
       "</div>"
      ],
      "text/plain": [
       "      Loan_ID Gender Married Dependents Education Self_Employed  \\\n",
       "372  LP002201   Male     Yes          2  Graduate           Yes   \n",
       "\n",
       "     ApplicantIncome  CoapplicantIncome  LoanAmount  Loan_Amount_Term  \\\n",
       "372             9323             7873.0       380.0             300.0   \n",
       "\n",
       "     Credit_History Property_Area Loan_Status  \n",
       "372             1.0         Rural           Y  "
      ]
     },
     "execution_count": 230,
     "metadata": {},
     "output_type": "execute_result"
    }
   ],
   "source": [
    "loan.sample()"
   ]
  },
  {
   "cell_type": "markdown",
   "metadata": {},
   "source": [
    "## Data Cleaning"
   ]
  },
  {
   "cell_type": "code",
   "execution_count": 231,
   "metadata": {},
   "outputs": [
    {
     "name": "stdout",
     "output_type": "stream",
     "text": [
      "Total null values in data \n",
      " 149\n",
      "\n",
      "Null values for individual features \n",
      " Loan_ID               0\n",
      "Gender               13\n",
      "Married               3\n",
      "Dependents           15\n",
      "Education             0\n",
      "Self_Employed        32\n",
      "ApplicantIncome       0\n",
      "CoapplicantIncome     0\n",
      "LoanAmount           22\n",
      "Loan_Amount_Term     14\n",
      "Credit_History       50\n",
      "Property_Area         0\n",
      "Loan_Status           0\n",
      "dtype: int64\n",
      "\n",
      " Row wise nan values\n",
      "\n",
      "Nan in row 0 : 1\n",
      "Nan in row 1 : 0\n",
      "Nan in row 2 : 0\n",
      "Nan in row 3 : 0\n",
      "Nan in row 4 : 0\n",
      "Nan in row 5 : 0\n",
      "Nan in row 6 : 0\n",
      "Nan in row 7 : 0\n",
      "Nan in row 8 : 0\n",
      "Nan in row 9 : 0\n",
      "Nan in row 10 : 0\n",
      "Nan in row 11 : 1\n",
      "Nan in row 12 : 0\n",
      "Nan in row 13 : 0\n",
      "Nan in row 14 : 0\n",
      "Nan in row 15 : 0\n",
      "Nan in row 16 : 1\n",
      "Nan in row 17 : 0\n",
      "Nan in row 18 : 0\n",
      "Nan in row 19 : 2\n",
      "Nan in row 20 : 0\n",
      "Nan in row 21 : 0\n",
      "Nan in row 22 : 0\n",
      "Nan in row 23 : 1\n",
      "Nan in row 24 : 2\n",
      "Nan in row 25 : 0\n",
      "Nan in row 26 : 0\n",
      "Nan in row 27 : 0\n",
      "Nan in row 28 : 0\n",
      "Nan in row 29 : 1\n",
      "Nan in row 30 : 2\n",
      "Nan in row 31 : 0\n",
      "Nan in row 32 : 0\n",
      "Nan in row 33 : 0\n",
      "Nan in row 34 : 0\n",
      "Nan in row 35 : 1\n",
      "Nan in row 36 : 1\n",
      "Nan in row 37 : 0\n",
      "Nan in row 38 : 0\n",
      "Nan in row 39 : 0\n",
      "Nan in row 40 : 0\n",
      "Nan in row 41 : 0\n",
      "Nan in row 42 : 1\n",
      "Nan in row 43 : 0\n",
      "Nan in row 44 : 1\n",
      "Nan in row 45 : 1\n",
      "Nan in row 46 : 0\n",
      "Nan in row 47 : 0\n",
      "Nan in row 48 : 0\n",
      "Nan in row 49 : 0\n",
      "Nan in row 50 : 0\n",
      "Nan in row 51 : 0\n",
      "Nan in row 52 : 0\n",
      "Nan in row 53 : 0\n",
      "Nan in row 54 : 0\n",
      "Nan in row 55 : 0\n",
      "Nan in row 56 : 0\n",
      "Nan in row 57 : 0\n",
      "Nan in row 58 : 0\n",
      "Nan in row 59 : 0\n",
      "Nan in row 60 : 0\n",
      "Nan in row 61 : 0\n",
      "Nan in row 62 : 0\n",
      "Nan in row 63 : 1\n",
      "Nan in row 64 : 0\n",
      "Nan in row 65 : 0\n",
      "Nan in row 66 : 0\n",
      "Nan in row 67 : 0\n",
      "Nan in row 68 : 0\n",
      "Nan in row 69 : 0\n",
      "Nan in row 70 : 0\n",
      "Nan in row 71 : 0\n",
      "Nan in row 72 : 0\n",
      "Nan in row 73 : 1\n",
      "Nan in row 74 : 0\n",
      "Nan in row 75 : 0\n",
      "Nan in row 76 : 0\n",
      "Nan in row 77 : 0\n",
      "Nan in row 78 : 0\n",
      "Nan in row 79 : 1\n",
      "Nan in row 80 : 0\n",
      "Nan in row 81 : 1\n",
      "Nan in row 82 : 0\n",
      "Nan in row 83 : 1\n",
      "Nan in row 84 : 0\n",
      "Nan in row 85 : 0\n",
      "Nan in row 86 : 1\n",
      "Nan in row 87 : 0\n",
      "Nan in row 88 : 0\n",
      "Nan in row 89 : 0\n",
      "Nan in row 90 : 0\n",
      "Nan in row 91 : 0\n",
      "Nan in row 92 : 0\n",
      "Nan in row 93 : 0\n",
      "Nan in row 94 : 0\n",
      "Nan in row 95 : 3\n",
      "Nan in row 96 : 0\n",
      "Nan in row 97 : 0\n",
      "Nan in row 98 : 0\n",
      "Nan in row 99 : 0\n",
      "Nan in row 100 : 0\n",
      "Nan in row 101 : 0\n",
      "Nan in row 102 : 2\n",
      "Nan in row 103 : 1\n",
      "Nan in row 104 : 2\n",
      "Nan in row 105 : 0\n",
      "Nan in row 106 : 0\n",
      "Nan in row 107 : 1\n",
      "Nan in row 108 : 0\n",
      "Nan in row 109 : 0\n",
      "Nan in row 110 : 0\n",
      "Nan in row 111 : 1\n",
      "Nan in row 112 : 1\n",
      "Nan in row 113 : 1\n",
      "Nan in row 114 : 1\n",
      "Nan in row 115 : 0\n",
      "Nan in row 116 : 0\n",
      "Nan in row 117 : 1\n",
      "Nan in row 118 : 0\n",
      "Nan in row 119 : 0\n",
      "Nan in row 120 : 1\n",
      "Nan in row 121 : 0\n",
      "Nan in row 122 : 0\n",
      "Nan in row 123 : 0\n",
      "Nan in row 124 : 0\n",
      "Nan in row 125 : 1\n",
      "Nan in row 126 : 1\n",
      "Nan in row 127 : 1\n",
      "Nan in row 128 : 0\n",
      "Nan in row 129 : 1\n",
      "Nan in row 130 : 1\n",
      "Nan in row 131 : 0\n",
      "Nan in row 132 : 0\n",
      "Nan in row 133 : 0\n",
      "Nan in row 134 : 0\n",
      "Nan in row 135 : 0\n",
      "Nan in row 136 : 0\n",
      "Nan in row 137 : 0\n",
      "Nan in row 138 : 0\n",
      "Nan in row 139 : 0\n",
      "Nan in row 140 : 0\n",
      "Nan in row 141 : 0\n",
      "Nan in row 142 : 0\n",
      "Nan in row 143 : 0\n",
      "Nan in row 144 : 0\n",
      "Nan in row 145 : 0\n",
      "Nan in row 146 : 0\n",
      "Nan in row 147 : 0\n",
      "Nan in row 148 : 0\n",
      "Nan in row 149 : 0\n",
      "Nan in row 150 : 0\n",
      "Nan in row 151 : 0\n",
      "Nan in row 152 : 0\n",
      "Nan in row 153 : 0\n",
      "Nan in row 154 : 0\n",
      "Nan in row 155 : 0\n",
      "Nan in row 156 : 1\n",
      "Nan in row 157 : 0\n",
      "Nan in row 158 : 1\n",
      "Nan in row 159 : 0\n",
      "Nan in row 160 : 0\n",
      "Nan in row 161 : 0\n",
      "Nan in row 162 : 0\n",
      "Nan in row 163 : 0\n",
      "Nan in row 164 : 0\n",
      "Nan in row 165 : 1\n",
      "Nan in row 166 : 0\n",
      "Nan in row 167 : 0\n",
      "Nan in row 168 : 0\n",
      "Nan in row 169 : 0\n",
      "Nan in row 170 : 1\n",
      "Nan in row 171 : 1\n",
      "Nan in row 172 : 0\n",
      "Nan in row 173 : 0\n",
      "Nan in row 174 : 0\n",
      "Nan in row 175 : 0\n",
      "Nan in row 176 : 0\n",
      "Nan in row 177 : 0\n",
      "Nan in row 178 : 0\n",
      "Nan in row 179 : 0\n",
      "Nan in row 180 : 0\n",
      "Nan in row 181 : 1\n",
      "Nan in row 182 : 0\n",
      "Nan in row 183 : 0\n",
      "Nan in row 184 : 0\n",
      "Nan in row 185 : 0\n",
      "Nan in row 186 : 0\n",
      "Nan in row 187 : 1\n",
      "Nan in row 188 : 1\n",
      "Nan in row 189 : 0\n",
      "Nan in row 190 : 0\n",
      "Nan in row 191 : 0\n",
      "Nan in row 192 : 0\n",
      "Nan in row 193 : 0\n",
      "Nan in row 194 : 0\n",
      "Nan in row 195 : 0\n",
      "Nan in row 196 : 0\n",
      "Nan in row 197 : 1\n",
      "Nan in row 198 : 1\n",
      "Nan in row 199 : 0\n",
      "Nan in row 200 : 0\n",
      "Nan in row 201 : 0\n",
      "Nan in row 202 : 1\n",
      "Nan in row 203 : 0\n",
      "Nan in row 204 : 0\n",
      "Nan in row 205 : 0\n",
      "Nan in row 206 : 0\n",
      "Nan in row 207 : 0\n",
      "Nan in row 208 : 0\n",
      "Nan in row 209 : 0\n",
      "Nan in row 210 : 0\n",
      "Nan in row 211 : 0\n",
      "Nan in row 212 : 0\n",
      "Nan in row 213 : 0\n",
      "Nan in row 214 : 0\n",
      "Nan in row 215 : 0\n",
      "Nan in row 216 : 0\n",
      "Nan in row 217 : 0\n",
      "Nan in row 218 : 1\n",
      "Nan in row 219 : 1\n",
      "Nan in row 220 : 0\n",
      "Nan in row 221 : 0\n",
      "Nan in row 222 : 0\n",
      "Nan in row 223 : 1\n",
      "Nan in row 224 : 0\n",
      "Nan in row 225 : 0\n",
      "Nan in row 226 : 1\n",
      "Nan in row 227 : 0\n",
      "Nan in row 228 : 2\n",
      "Nan in row 229 : 0\n",
      "Nan in row 230 : 0\n",
      "Nan in row 231 : 1\n",
      "Nan in row 232 : 1\n",
      "Nan in row 233 : 0\n",
      "Nan in row 234 : 0\n",
      "Nan in row 235 : 0\n",
      "Nan in row 236 : 2\n",
      "Nan in row 237 : 1\n",
      "Nan in row 238 : 0\n",
      "Nan in row 239 : 0\n",
      "Nan in row 240 : 0\n",
      "Nan in row 241 : 0\n",
      "Nan in row 242 : 0\n",
      "Nan in row 243 : 0\n",
      "Nan in row 244 : 0\n",
      "Nan in row 245 : 0\n",
      "Nan in row 246 : 0\n",
      "Nan in row 247 : 0\n",
      "Nan in row 248 : 0\n",
      "Nan in row 249 : 0\n",
      "Nan in row 250 : 0\n",
      "Nan in row 251 : 0\n",
      "Nan in row 252 : 0\n",
      "Nan in row 253 : 0\n",
      "Nan in row 254 : 0\n",
      "Nan in row 255 : 0\n",
      "Nan in row 256 : 0\n",
      "Nan in row 257 : 0\n",
      "Nan in row 258 : 0\n",
      "Nan in row 259 : 1\n",
      "Nan in row 260 : 1\n",
      "Nan in row 261 : 0\n",
      "Nan in row 262 : 0\n",
      "Nan in row 263 : 0\n",
      "Nan in row 264 : 0\n",
      "Nan in row 265 : 0\n",
      "Nan in row 266 : 0\n",
      "Nan in row 267 : 0\n",
      "Nan in row 268 : 1\n",
      "Nan in row 269 : 0\n",
      "Nan in row 270 : 0\n",
      "Nan in row 271 : 0\n",
      "Nan in row 272 : 0\n",
      "Nan in row 273 : 0\n",
      "Nan in row 274 : 0\n",
      "Nan in row 275 : 0\n",
      "Nan in row 276 : 0\n",
      "Nan in row 277 : 0\n",
      "Nan in row 278 : 0\n",
      "Nan in row 279 : 1\n",
      "Nan in row 280 : 0\n",
      "Nan in row 281 : 0\n",
      "Nan in row 282 : 0\n",
      "Nan in row 283 : 0\n",
      "Nan in row 284 : 1\n",
      "Nan in row 285 : 0\n",
      "Nan in row 286 : 0\n",
      "Nan in row 287 : 0\n",
      "Nan in row 288 : 0\n",
      "Nan in row 289 : 0\n",
      "Nan in row 290 : 0\n",
      "Nan in row 291 : 0\n",
      "Nan in row 292 : 0\n",
      "Nan in row 293 : 1\n",
      "Nan in row 294 : 0\n",
      "Nan in row 295 : 1\n",
      "Nan in row 296 : 0\n",
      "Nan in row 297 : 0\n",
      "Nan in row 298 : 0\n",
      "Nan in row 299 : 0\n",
      "Nan in row 300 : 0\n",
      "Nan in row 301 : 1\n",
      "Nan in row 302 : 0\n",
      "Nan in row 303 : 0\n",
      "Nan in row 304 : 0\n",
      "Nan in row 305 : 1\n",
      "Nan in row 306 : 0\n",
      "Nan in row 307 : 0\n",
      "Nan in row 308 : 0\n",
      "Nan in row 309 : 1\n",
      "Nan in row 310 : 0\n",
      "Nan in row 311 : 0\n",
      "Nan in row 312 : 0\n",
      "Nan in row 313 : 1\n",
      "Nan in row 314 : 1\n",
      "Nan in row 315 : 0\n",
      "Nan in row 316 : 0\n",
      "Nan in row 317 : 1\n",
      "Nan in row 318 : 1\n",
      "Nan in row 319 : 0\n",
      "Nan in row 320 : 0\n",
      "Nan in row 321 : 0\n",
      "Nan in row 322 : 1\n",
      "Nan in row 323 : 1\n",
      "Nan in row 324 : 0\n",
      "Nan in row 325 : 0\n",
      "Nan in row 326 : 0\n",
      "Nan in row 327 : 0\n",
      "Nan in row 328 : 0\n",
      "Nan in row 329 : 0\n",
      "Nan in row 330 : 0\n",
      "Nan in row 331 : 0\n",
      "Nan in row 332 : 1\n",
      "Nan in row 333 : 1\n",
      "Nan in row 334 : 1\n",
      "Nan in row 335 : 2\n",
      "Nan in row 336 : 1\n",
      "Nan in row 337 : 0\n",
      "Nan in row 338 : 1\n",
      "Nan in row 339 : 0\n",
      "Nan in row 340 : 0\n",
      "Nan in row 341 : 0\n",
      "Nan in row 342 : 0\n",
      "Nan in row 343 : 0\n",
      "Nan in row 344 : 1\n",
      "Nan in row 345 : 0\n",
      "Nan in row 346 : 1\n",
      "Nan in row 347 : 0\n",
      "Nan in row 348 : 1\n",
      "Nan in row 349 : 0\n",
      "Nan in row 350 : 0\n",
      "Nan in row 351 : 0\n",
      "Nan in row 352 : 0\n",
      "Nan in row 353 : 0\n",
      "Nan in row 354 : 0\n",
      "Nan in row 355 : 1\n",
      "Nan in row 356 : 0\n",
      "Nan in row 357 : 0\n",
      "Nan in row 358 : 0\n",
      "Nan in row 359 : 0\n",
      "Nan in row 360 : 0\n",
      "Nan in row 361 : 0\n",
      "Nan in row 362 : 0\n",
      "Nan in row 363 : 1\n",
      "Nan in row 364 : 0\n",
      "Nan in row 365 : 0\n",
      "Nan in row 366 : 0\n",
      "Nan in row 367 : 1\n",
      "Nan in row 368 : 0\n",
      "Nan in row 369 : 0\n",
      "Nan in row 370 : 0\n",
      "Nan in row 371 : 0\n",
      "Nan in row 372 : 0\n",
      "Nan in row 373 : 0\n",
      "Nan in row 374 : 1\n",
      "Nan in row 375 : 0\n",
      "Nan in row 376 : 0\n",
      "Nan in row 377 : 1\n",
      "Nan in row 378 : 0\n",
      "Nan in row 379 : 0\n",
      "Nan in row 380 : 1\n",
      "Nan in row 381 : 0\n",
      "Nan in row 382 : 0\n",
      "Nan in row 383 : 0\n",
      "Nan in row 384 : 0\n",
      "Nan in row 385 : 1\n",
      "Nan in row 386 : 0\n",
      "Nan in row 387 : 1\n",
      "Nan in row 388 : 0\n",
      "Nan in row 389 : 0\n",
      "Nan in row 390 : 0\n",
      "Nan in row 391 : 0\n",
      "Nan in row 392 : 1\n",
      "Nan in row 393 : 0\n",
      "Nan in row 394 : 0\n",
      "Nan in row 395 : 1\n",
      "Nan in row 396 : 0\n",
      "Nan in row 397 : 0\n",
      "Nan in row 398 : 0\n",
      "Nan in row 399 : 0\n",
      "Nan in row 400 : 0\n",
      "Nan in row 401 : 0\n",
      "Nan in row 402 : 0\n",
      "Nan in row 403 : 0\n",
      "Nan in row 404 : 0\n",
      "Nan in row 405 : 0\n",
      "Nan in row 406 : 0\n",
      "Nan in row 407 : 0\n",
      "Nan in row 408 : 0\n",
      "Nan in row 409 : 0\n",
      "Nan in row 410 : 0\n",
      "Nan in row 411 : 2\n",
      "Nan in row 412 : 0\n",
      "Nan in row 413 : 0\n",
      "Nan in row 414 : 0\n",
      "Nan in row 415 : 0\n",
      "Nan in row 416 : 0\n",
      "Nan in row 417 : 0\n",
      "Nan in row 418 : 0\n",
      "Nan in row 419 : 0\n",
      "Nan in row 420 : 0\n",
      "Nan in row 421 : 1\n",
      "Nan in row 422 : 0\n",
      "Nan in row 423 : 1\n",
      "Nan in row 424 : 0\n",
      "Nan in row 425 : 0\n",
      "Nan in row 426 : 0\n",
      "Nan in row 427 : 0\n",
      "Nan in row 428 : 0\n",
      "Nan in row 429 : 0\n",
      "Nan in row 430 : 0\n",
      "Nan in row 431 : 0\n",
      "Nan in row 432 : 1\n",
      "Nan in row 433 : 0\n",
      "Nan in row 434 : 0\n",
      "Nan in row 435 : 3\n",
      "Nan in row 436 : 0\n",
      "Nan in row 437 : 1\n",
      "Nan in row 438 : 0\n",
      "Nan in row 439 : 0\n",
      "Nan in row 440 : 0\n",
      "Nan in row 441 : 0\n",
      "Nan in row 442 : 0\n",
      "Nan in row 443 : 0\n",
      "Nan in row 444 : 1\n",
      "Nan in row 445 : 0\n",
      "Nan in row 446 : 0\n",
      "Nan in row 447 : 1\n",
      "Nan in row 448 : 0\n",
      "Nan in row 449 : 1\n",
      "Nan in row 450 : 0\n",
      "Nan in row 451 : 1\n",
      "Nan in row 452 : 0\n",
      "Nan in row 453 : 0\n",
      "Nan in row 454 : 0\n",
      "Nan in row 455 : 0\n",
      "Nan in row 456 : 0\n",
      "Nan in row 457 : 0\n",
      "Nan in row 458 : 0\n",
      "Nan in row 459 : 0\n",
      "Nan in row 460 : 2\n",
      "Nan in row 461 : 0\n",
      "Nan in row 462 : 0\n",
      "Nan in row 463 : 1\n",
      "Nan in row 464 : 0\n",
      "Nan in row 465 : 0\n",
      "Nan in row 466 : 0\n",
      "Nan in row 467 : 1\n",
      "Nan in row 468 : 1\n",
      "Nan in row 469 : 0\n",
      "Nan in row 470 : 0\n",
      "Nan in row 471 : 0\n",
      "Nan in row 472 : 0\n",
      "Nan in row 473 : 1\n",
      "Nan in row 474 : 0\n",
      "Nan in row 475 : 0\n",
      "Nan in row 476 : 0\n",
      "Nan in row 477 : 1\n",
      "Nan in row 478 : 0\n",
      "Nan in row 479 : 1\n",
      "Nan in row 480 : 0\n",
      "Nan in row 481 : 0\n",
      "Nan in row 482 : 0\n",
      "Nan in row 483 : 0\n",
      "Nan in row 484 : 0\n",
      "Nan in row 485 : 0\n",
      "Nan in row 486 : 0\n",
      "Nan in row 487 : 0\n",
      "Nan in row 488 : 0\n",
      "Nan in row 489 : 0\n",
      "Nan in row 490 : 1\n",
      "Nan in row 491 : 1\n",
      "Nan in row 492 : 0\n",
      "Nan in row 493 : 0\n",
      "Nan in row 494 : 0\n",
      "Nan in row 495 : 0\n",
      "Nan in row 496 : 0\n",
      "Nan in row 497 : 1\n",
      "Nan in row 498 : 0\n",
      "Nan in row 499 : 0\n",
      "Nan in row 500 : 0\n",
      "Nan in row 501 : 0\n",
      "Nan in row 502 : 0\n",
      "Nan in row 503 : 1\n",
      "Nan in row 504 : 0\n",
      "Nan in row 505 : 0\n",
      "Nan in row 506 : 1\n",
      "Nan in row 507 : 1\n",
      "Nan in row 508 : 0\n",
      "Nan in row 509 : 0\n",
      "Nan in row 510 : 0\n",
      "Nan in row 511 : 0\n",
      "Nan in row 512 : 0\n",
      "Nan in row 513 : 0\n",
      "Nan in row 514 : 0\n",
      "Nan in row 515 : 0\n",
      "Nan in row 516 : 0\n",
      "Nan in row 517 : 1\n",
      "Nan in row 518 : 0\n",
      "Nan in row 519 : 0\n",
      "Nan in row 520 : 0\n",
      "Nan in row 521 : 0\n",
      "Nan in row 522 : 0\n",
      "Nan in row 523 : 0\n",
      "Nan in row 524 : 1\n",
      "Nan in row 525 : 0\n",
      "Nan in row 526 : 0\n",
      "Nan in row 527 : 0\n",
      "Nan in row 528 : 0\n",
      "Nan in row 529 : 0\n",
      "Nan in row 530 : 1\n",
      "Nan in row 531 : 0\n",
      "Nan in row 532 : 0\n",
      "Nan in row 533 : 1\n",
      "Nan in row 534 : 0\n",
      "Nan in row 535 : 1\n",
      "Nan in row 536 : 0\n",
      "Nan in row 537 : 0\n",
      "Nan in row 538 : 0\n",
      "Nan in row 539 : 0\n",
      "Nan in row 540 : 0\n",
      "Nan in row 541 : 0\n",
      "Nan in row 542 : 1\n",
      "Nan in row 543 : 0\n",
      "Nan in row 544 : 1\n",
      "Nan in row 545 : 0\n",
      "Nan in row 546 : 0\n",
      "Nan in row 547 : 0\n",
      "Nan in row 548 : 0\n",
      "Nan in row 549 : 0\n",
      "Nan in row 550 : 1\n",
      "Nan in row 551 : 1\n",
      "Nan in row 552 : 0\n",
      "Nan in row 553 : 0\n",
      "Nan in row 554 : 0\n",
      "Nan in row 555 : 0\n",
      "Nan in row 556 : 1\n",
      "Nan in row 557 : 0\n",
      "Nan in row 558 : 0\n",
      "Nan in row 559 : 0\n",
      "Nan in row 560 : 0\n",
      "Nan in row 561 : 0\n",
      "Nan in row 562 : 0\n",
      "Nan in row 563 : 0\n",
      "Nan in row 564 : 0\n",
      "Nan in row 565 : 1\n",
      "Nan in row 566 : 0\n",
      "Nan in row 567 : 0\n",
      "Nan in row 568 : 0\n",
      "Nan in row 569 : 0\n",
      "Nan in row 570 : 0\n",
      "Nan in row 571 : 1\n",
      "Nan in row 572 : 0\n",
      "Nan in row 573 : 0\n",
      "Nan in row 574 : 0\n",
      "Nan in row 575 : 0\n",
      "Nan in row 576 : 1\n",
      "Nan in row 577 : 0\n",
      "Nan in row 578 : 0\n",
      "Nan in row 579 : 1\n",
      "Nan in row 580 : 0\n",
      "Nan in row 581 : 0\n",
      "Nan in row 582 : 0\n",
      "Nan in row 583 : 1\n",
      "Nan in row 584 : 0\n",
      "Nan in row 585 : 0\n",
      "Nan in row 586 : 0\n",
      "Nan in row 587 : 0\n",
      "Nan in row 588 : 1\n",
      "Nan in row 589 : 0\n",
      "Nan in row 590 : 0\n",
      "Nan in row 591 : 0\n",
      "Nan in row 592 : 1\n",
      "Nan in row 593 : 0\n",
      "Nan in row 594 : 0\n",
      "Nan in row 595 : 0\n",
      "Nan in row 596 : 0\n",
      "Nan in row 597 : 1\n",
      "Nan in row 598 : 0\n",
      "Nan in row 599 : 0\n",
      "Nan in row 600 : 2\n",
      "Nan in row 601 : 1\n",
      "Nan in row 602 : 0\n",
      "Nan in row 603 : 0\n",
      "Nan in row 604 : 0\n",
      "Nan in row 605 : 1\n",
      "Nan in row 606 : 0\n",
      "Nan in row 607 : 0\n",
      "Nan in row 608 : 0\n",
      "Nan in row 609 : 0\n",
      "Nan in row 610 : 0\n",
      "Nan in row 611 : 0\n",
      "Nan in row 612 : 0\n",
      "Nan in row 613 : 0\n"
     ]
    }
   ],
   "source": [
    "# Check null values in data\n",
    "print(\"Total null values in data \\n\",loan.isnull().sum().sum())\n",
    "print(\"\\nNull values for individual features \\n\",loan.isnull().sum())\n",
    "print(\"\\n Row wise nan values\\n\")\n",
    "for i in range(len(loan.index)):\n",
    "    print(\"Nan in row\",i,\":\",loan.iloc[i].isnull().sum())"
   ]
  },
  {
   "cell_type": "code",
   "execution_count": 232,
   "metadata": {},
   "outputs": [],
   "source": [
    "loan.columns\n",
    "# Cleaning categorical values\n",
    "categorical_values = ['Gender','Married','Education','Self_Employed','Property_Area']"
   ]
  },
  {
   "cell_type": "code",
   "execution_count": 233,
   "metadata": {},
   "outputs": [
    {
     "name": "stdout",
     "output_type": "stream",
     "text": [
      "Gender 0\n",
      "Married 0\n",
      "Education 0\n",
      "Self_Employed 0\n",
      "Property_Area 0\n"
     ]
    }
   ],
   "source": [
    "for i in categorical_values:\n",
    "    loan[i] = loan[i].fillna( loan[i].dropna().mode().values[0] )\n",
    "    print(i,loan[i].isnull().sum())"
   ]
  },
  {
   "cell_type": "code",
   "execution_count": 234,
   "metadata": {},
   "outputs": [
    {
     "name": "stdout",
     "output_type": "stream",
     "text": [
      "Dependents 0\n",
      "Loan_Amount_Term 0\n",
      "Credit_History 0\n",
      "Loan Amount  0\n"
     ]
    }
   ],
   "source": [
    "# Cleaning numerical values\n",
    "numerical_values = ['Dependents','Loan_Amount_Term','Credit_History']\n",
    "for i in numerical_values:\n",
    "    loan[i] = loan[i].fillna(loan[i].dropna().mode().values[0] )\n",
    "    print(i,loan[i].isnull().sum())\n",
    "loan['LoanAmount'] = loan['LoanAmount'].fillna(loan['LoanAmount'].dropna().mean())\n",
    "print(\"Loan Amount \",loan['LoanAmount'].isnull().sum())"
   ]
  },
  {
   "cell_type": "code",
   "execution_count": 235,
   "metadata": {},
   "outputs": [
    {
     "data": {
      "text/plain": [
       "Loan_ID              0\n",
       "Gender               0\n",
       "Married              0\n",
       "Dependents           0\n",
       "Education            0\n",
       "Self_Employed        0\n",
       "ApplicantIncome      0\n",
       "CoapplicantIncome    0\n",
       "LoanAmount           0\n",
       "Loan_Amount_Term     0\n",
       "Credit_History       0\n",
       "Property_Area        0\n",
       "Loan_Status          0\n",
       "dtype: int64"
      ]
     },
     "execution_count": 235,
     "metadata": {},
     "output_type": "execute_result"
    }
   ],
   "source": [
    "loan.isnull().sum()"
   ]
  },
  {
   "cell_type": "markdown",
   "metadata": {},
   "source": [
    "## Visuals"
   ]
  },
  {
   "cell_type": "code",
   "execution_count": 236,
   "metadata": {},
   "outputs": [
    {
     "data": {
      "image/png": "[encoded data removed]",
      "text/plain": [
       "<Figure size 1440x720 with 2 Axes>"
      ]
     },
     "metadata": {
      "needs_background": "light"
     },
     "output_type": "display_data"
    }
   ],
   "source": [
    "fig = plt.figure(figsize = (20,10))\n",
    "corr = loan.corr()\n",
    "sns.heatmap(corr, xticklabels = corr.columns, yticklabels=corr.columns, annot = True)\n",
    "plt.show()"
   ]
  },
  {
   "cell_type": "code",
   "execution_count": 237,
   "metadata": {},
   "outputs": [
    {
     "data": {
      "text/plain": [
       "<matplotlib.axes._subplots.AxesSubplot at 0x2c4d5dee648>"
      ]
     },
     "execution_count": 237,
     "metadata": {},
     "output_type": "execute_result"
    },
    {
     "data": {
      "image/png": "[encoded data removed]",
      "text/plain": [
       "<Figure size 432x288 with 1 Axes>"
      ]
     },
     "metadata": {
      "needs_background": "light"
     },
     "output_type": "display_data"
    }
   ],
   "source": [
    "sns.countplot(y='Gender', hue='Loan_Status', data=loan)"
   ]
  },
  {
   "cell_type": "code",
   "execution_count": 238,
   "metadata": {},
   "outputs": [
    {
     "data": {
      "text/plain": [
       "<matplotlib.axes._subplots.AxesSubplot at 0x2c4e4c6d708>"
      ]
     },
     "execution_count": 238,
     "metadata": {},
     "output_type": "execute_result"
    },
    {
     "data": {
      "image/png": "[encoded data removed]",
      "text/plain": [
       "<Figure size 432x288 with 1 Axes>"
      ]
     },
     "metadata": {
      "needs_background": "light"
     },
     "output_type": "display_data"
    }
   ],
   "source": [
    "sns.countplot(y='Married', hue='Loan_Status', data=loan)"
   ]
  },
  {
   "cell_type": "code",
   "execution_count": 239,
   "metadata": {},
   "outputs": [
    {
     "data": {
      "text/plain": [
       "<matplotlib.axes._subplots.AxesSubplot at 0x2c4d9ef9a08>"
      ]
     },
     "execution_count": 239,
     "metadata": {},
     "output_type": "execute_result"
    },
    {
     "data": {
      "image/png": "[encoded data removed]",
      "text/plain": [
       "<Figure size 432x288 with 1 Axes>"
      ]
     },
     "metadata": {
      "needs_background": "light"
     },
     "output_type": "display_data"
    }
   ],
   "source": [
    "sns.countplot(y='Education', hue='Loan_Status', data=loan)"
   ]
  },
  {
   "cell_type": "code",
   "execution_count": 240,
   "metadata": {},
   "outputs": [
    {
     "data": {
      "text/plain": [
       "<matplotlib.axes._subplots.AxesSubplot at 0x2c4d9ef9448>"
      ]
     },
     "execution_count": 240,
     "metadata": {},
     "output_type": "execute_result"
    },
    {
     "data": {
      "image/png": "[encoded data removed]",
      "text/plain": [
       "<Figure size 432x288 with 1 Axes>"
      ]
     },
     "metadata": {
      "needs_background": "light"
     },
     "output_type": "display_data"
    }
   ],
   "source": [
    "sns.countplot(y='Property_Area', hue='Loan_Status', data=loan)"
   ]
  },
  {
   "cell_type": "code",
   "execution_count": 241,
   "metadata": {},
   "outputs": [
    {
     "name": "stderr",
     "output_type": "stream",
     "text": [
      "C:\\Users\\admin\\Anaconda3\\lib\\site-packages\\seaborn\\axisgrid.py:230: UserWarning: The `size` paramter has been renamed to `height`; please update your code.\n",
      "  warnings.warn(msg, UserWarning)\n"
     ]
    },
    {
     "data": {
      "text/plain": [
       "<seaborn.axisgrid.FacetGrid at 0x2c4e0296fc8>"
      ]
     },
     "execution_count": 241,
     "metadata": {},
     "output_type": "execute_result"
    },
    {
     "data": {
      "image/png": "[encoded data removed]",
      "text/plain": [
       "<Figure size 514.88x316.8 with 4 Axes>"
      ]
     },
     "metadata": {
      "needs_background": "light"
     },
     "output_type": "display_data"
    }
   ],
   "source": [
    "grid = sns.FacetGrid(loan, row='Gender', col='Married',size=2.2,aspect=1.6)\n",
    "grid.map(plt.hist, 'ApplicantIncome', alpha=0.5, bins=10)\n",
    "grid.add_legend()"
   ]
  },
  {
   "cell_type": "code",
   "execution_count": 242,
   "metadata": {},
   "outputs": [
    {
     "data": {
      "text/plain": [
       "<seaborn.axisgrid.FacetGrid at 0x2c4dcff1688>"
      ]
     },
     "execution_count": 242,
     "metadata": {},
     "output_type": "execute_result"
    },
    {
     "data": {
      "image/png": "[encoded data removed]",
      "text/plain": [
       "<Figure size 514.88x316.8 with 4 Axes>"
      ]
     },
     "metadata": {
      "needs_background": "light"
     },
     "output_type": "display_data"
    }
   ],
   "source": [
    "grid = sns.FacetGrid(loan, row='Gender', col='Education',size=2.2,aspect=1.6)\n",
    "grid.map(plt.hist, 'ApplicantIncome', alpha=0.5, bins=10)\n",
    "grid.add_legend()"
   ]
  },
  {
   "cell_type": "markdown",
   "metadata": {},
   "source": [
    "## Data Transformation"
   ]
  },
  {
   "cell_type": "code",
   "execution_count": 243,
   "metadata": {},
   "outputs": [],
   "source": [
    "from sklearn.preprocessing import OneHotEncoder, LabelEncoder"
   ]
  },
  {
   "cell_type": "code",
   "execution_count": 244,
   "metadata": {},
   "outputs": [],
   "source": [
    "code_numeric = {'Male':1, 'Female':2,'Yes':1,'No':2,'Graduate':1,'Not Graduate':2,'Urban':3,'Semiurban':2,'Rural':1,'Y':1,'N':2,'3+':3}"
   ]
  },
  {
   "cell_type": "code",
   "execution_count": 245,
   "metadata": {},
   "outputs": [],
   "source": [
    "loan = loan.applymap(lambda s: code_numeric.get(s) if s in code_numeric else s)\n",
    "#loan_test = loan_test.applymap(lambda s: code_numeric.get(s) if s in code_numeric else s)\n",
    "loan.drop('Loan_ID',axis=1,inplace=True)"
   ]
  },
  {
   "cell_type": "code",
   "execution_count": 246,
   "metadata": {},
   "outputs": [
    {
     "name": "stdout",
     "output_type": "stream",
     "text": [
      "   Gender  Married Dependents  Education  Self_Employed  ApplicantIncome  \\\n",
      "0       1        2          0          1              2             5849   \n",
      "1       1        1          1          1              2             4583   \n",
      "2       1        1          0          1              1             3000   \n",
      "3       1        1          0          2              2             2583   \n",
      "4       1        2          0          1              2             6000   \n",
      "\n",
      "   CoapplicantIncome  LoanAmount  Loan_Amount_Term  Credit_History  \\\n",
      "0                0.0  146.412162             360.0             1.0   \n",
      "1             1508.0  128.000000             360.0             1.0   \n",
      "2                0.0   66.000000             360.0             1.0   \n",
      "3             2358.0  120.000000             360.0             1.0   \n",
      "4                0.0  141.000000             360.0             1.0   \n",
      "\n",
      "   Property_Area  Loan_Status  \n",
      "0              3            1  \n",
      "1              1            2  \n",
      "2              3            1  \n",
      "3              3            1  \n",
      "4              3            1  \n",
      "\n",
      "\n",
      "After Encoding \n",
      " 0    360\n",
      "1    102\n",
      "2    101\n",
      "3     51\n",
      "Name: Dependents, dtype: int64\n"
     ]
    }
   ],
   "source": [
    "print(loan.head())\n",
    "print(\"\\n\\nAfter Encoding \\n\",loan['Dependents'].value_counts())"
   ]
  },
  {
   "cell_type": "code",
   "execution_count": 247,
   "metadata": {},
   "outputs": [
    {
     "name": "stdout",
     "output_type": "stream",
     "text": [
      "<class 'pandas.core.frame.DataFrame'>\n",
      "RangeIndex: 614 entries, 0 to 613\n",
      "Data columns (total 12 columns):\n",
      "Gender               614 non-null int64\n",
      "Married              614 non-null int64\n",
      "Dependents           614 non-null object\n",
      "Education            614 non-null int64\n",
      "Self_Employed        614 non-null int64\n",
      "ApplicantIncome      614 non-null int64\n",
      "CoapplicantIncome    614 non-null float64\n",
      "LoanAmount           614 non-null float64\n",
      "Loan_Amount_Term     614 non-null float64\n",
      "Credit_History       614 non-null float64\n",
      "Property_Area        614 non-null int64\n",
      "Loan_Status          614 non-null int64\n",
      "dtypes: float64(4), int64(7), object(1)\n",
      "memory usage: 57.7+ KB\n"
     ]
    }
   ],
   "source": [
    "loan.info()"
   ]
  },
  {
   "cell_type": "markdown",
   "metadata": {},
   "source": [
    "- From above result we see Dependents is object so we need to convert to numeric"
   ]
  },
  {
   "cell_type": "code",
   "execution_count": 248,
   "metadata": {},
   "outputs": [],
   "source": [
    "Dependents_ = pd.to_numeric(loan.Dependents)\n",
    "loan.drop(['Dependents'], axis=1, inplace=True)\n",
    "loan = pd.concat([loan, Dependents_], axis=1)"
   ]
  },
  {
   "cell_type": "code",
   "execution_count": 249,
   "metadata": {},
   "outputs": [
    {
     "name": "stdout",
     "output_type": "stream",
     "text": [
      "<class 'pandas.core.frame.DataFrame'>\n",
      "RangeIndex: 614 entries, 0 to 613\n",
      "Data columns (total 12 columns):\n",
      "Gender               614 non-null int64\n",
      "Married              614 non-null int64\n",
      "Education            614 non-null int64\n",
      "Self_Employed        614 non-null int64\n",
      "ApplicantIncome      614 non-null int64\n",
      "CoapplicantIncome    614 non-null float64\n",
      "LoanAmount           614 non-null float64\n",
      "Loan_Amount_Term     614 non-null float64\n",
      "Credit_History       614 non-null float64\n",
      "Property_Area        614 non-null int64\n",
      "Loan_Status          614 non-null int64\n",
      "Dependents           614 non-null int64\n",
      "dtypes: float64(4), int64(8)\n",
      "memory usage: 57.7 KB\n"
     ]
    }
   ],
   "source": [
    "loan.info()"
   ]
  },
  {
   "cell_type": "code",
   "execution_count": 250,
   "metadata": {},
   "outputs": [
    {
     "data": {
      "text/plain": [
       "<matplotlib.axes._subplots.AxesSubplot at 0x2c4dc9deac8>"
      ]
     },
     "execution_count": 250,
     "metadata": {},
     "output_type": "execute_result"
    },
    {
     "data": {
      "image/png": "[encoded data removed]",
      "text/plain": [
       "<Figure size 432x288 with 2 Axes>"
      ]
     },
     "metadata": {
      "needs_background": "light"
     },
     "output_type": "display_data"
    }
   ],
   "source": [
    "sns.heatmap(loan.corr())"
   ]
  },
  {
   "cell_type": "markdown",
   "metadata": {},
   "source": [
    "## Data preparation for model"
   ]
  },
  {
   "cell_type": "code",
   "execution_count": 251,
   "metadata": {},
   "outputs": [
    {
     "data": {
      "text/html": [
       "<div>\n",
       "<style scoped>\n",
       "    .dataframe tbody tr th:only-of-type {\n",
       "        vertical-align: middle;\n",
       "    }\n",
       "\n",
       "    .dataframe tbody tr th {\n",
       "        vertical-align: top;\n",
       "    }\n",
       "\n",
       "    .dataframe thead th {\n",
       "        text-align: right;\n",
       "    }\n",
       "</style>\n",
       "<table border=\"1\" class=\"dataframe\">\n",
       "  <thead>\n",
       "    <tr style=\"text-align: right;\">\n",
       "      <th></th>\n",
       "      <th>Gender</th>\n",
       "      <th>Married</th>\n",
       "      <th>Education</th>\n",
       "      <th>Self_Employed</th>\n",
       "      <th>ApplicantIncome</th>\n",
       "      <th>CoapplicantIncome</th>\n",
       "      <th>LoanAmount</th>\n",
       "      <th>Loan_Amount_Term</th>\n",
       "      <th>Credit_History</th>\n",
       "      <th>Property_Area</th>\n",
       "      <th>Loan_Status</th>\n",
       "      <th>Dependents</th>\n",
       "    </tr>\n",
       "  </thead>\n",
       "  <tbody>\n",
       "    <tr>\n",
       "      <td>316</td>\n",
       "      <td>1</td>\n",
       "      <td>1</td>\n",
       "      <td>1</td>\n",
       "      <td>2</td>\n",
       "      <td>3717</td>\n",
       "      <td>0.000000</td>\n",
       "      <td>120.0</td>\n",
       "      <td>360.0</td>\n",
       "      <td>1.0</td>\n",
       "      <td>2</td>\n",
       "      <td>1</td>\n",
       "      <td>2</td>\n",
       "    </tr>\n",
       "    <tr>\n",
       "      <td>517</td>\n",
       "      <td>1</td>\n",
       "      <td>1</td>\n",
       "      <td>2</td>\n",
       "      <td>2</td>\n",
       "      <td>3074</td>\n",
       "      <td>1800.000000</td>\n",
       "      <td>123.0</td>\n",
       "      <td>360.0</td>\n",
       "      <td>0.0</td>\n",
       "      <td>2</td>\n",
       "      <td>2</td>\n",
       "      <td>0</td>\n",
       "    </tr>\n",
       "    <tr>\n",
       "      <td>24</td>\n",
       "      <td>1</td>\n",
       "      <td>1</td>\n",
       "      <td>1</td>\n",
       "      <td>2</td>\n",
       "      <td>3717</td>\n",
       "      <td>2925.000000</td>\n",
       "      <td>151.0</td>\n",
       "      <td>360.0</td>\n",
       "      <td>1.0</td>\n",
       "      <td>2</td>\n",
       "      <td>2</td>\n",
       "      <td>1</td>\n",
       "    </tr>\n",
       "    <tr>\n",
       "      <td>78</td>\n",
       "      <td>1</td>\n",
       "      <td>1</td>\n",
       "      <td>1</td>\n",
       "      <td>2</td>\n",
       "      <td>3167</td>\n",
       "      <td>4000.000000</td>\n",
       "      <td>180.0</td>\n",
       "      <td>300.0</td>\n",
       "      <td>0.0</td>\n",
       "      <td>2</td>\n",
       "      <td>2</td>\n",
       "      <td>3</td>\n",
       "    </tr>\n",
       "    <tr>\n",
       "      <td>1</td>\n",
       "      <td>1</td>\n",
       "      <td>1</td>\n",
       "      <td>1</td>\n",
       "      <td>2</td>\n",
       "      <td>4583</td>\n",
       "      <td>1508.000000</td>\n",
       "      <td>128.0</td>\n",
       "      <td>360.0</td>\n",
       "      <td>1.0</td>\n",
       "      <td>1</td>\n",
       "      <td>2</td>\n",
       "      <td>1</td>\n",
       "    </tr>\n",
       "    <tr>\n",
       "      <td>...</td>\n",
       "      <td>...</td>\n",
       "      <td>...</td>\n",
       "      <td>...</td>\n",
       "      <td>...</td>\n",
       "      <td>...</td>\n",
       "      <td>...</td>\n",
       "      <td>...</td>\n",
       "      <td>...</td>\n",
       "      <td>...</td>\n",
       "      <td>...</td>\n",
       "      <td>...</td>\n",
       "      <td>...</td>\n",
       "    </tr>\n",
       "    <tr>\n",
       "      <td>282</td>\n",
       "      <td>1</td>\n",
       "      <td>1</td>\n",
       "      <td>1</td>\n",
       "      <td>2</td>\n",
       "      <td>2301</td>\n",
       "      <td>985.799988</td>\n",
       "      <td>78.0</td>\n",
       "      <td>180.0</td>\n",
       "      <td>1.0</td>\n",
       "      <td>3</td>\n",
       "      <td>1</td>\n",
       "      <td>2</td>\n",
       "    </tr>\n",
       "    <tr>\n",
       "      <td>573</td>\n",
       "      <td>1</td>\n",
       "      <td>1</td>\n",
       "      <td>2</td>\n",
       "      <td>2</td>\n",
       "      <td>6125</td>\n",
       "      <td>1625.000000</td>\n",
       "      <td>187.0</td>\n",
       "      <td>480.0</td>\n",
       "      <td>1.0</td>\n",
       "      <td>2</td>\n",
       "      <td>2</td>\n",
       "      <td>2</td>\n",
       "    </tr>\n",
       "    <tr>\n",
       "      <td>13</td>\n",
       "      <td>1</td>\n",
       "      <td>2</td>\n",
       "      <td>1</td>\n",
       "      <td>2</td>\n",
       "      <td>1853</td>\n",
       "      <td>2840.000000</td>\n",
       "      <td>114.0</td>\n",
       "      <td>360.0</td>\n",
       "      <td>1.0</td>\n",
       "      <td>1</td>\n",
       "      <td>2</td>\n",
       "      <td>0</td>\n",
       "    </tr>\n",
       "    <tr>\n",
       "      <td>180</td>\n",
       "      <td>1</td>\n",
       "      <td>1</td>\n",
       "      <td>1</td>\n",
       "      <td>2</td>\n",
       "      <td>6400</td>\n",
       "      <td>7250.000000</td>\n",
       "      <td>180.0</td>\n",
       "      <td>360.0</td>\n",
       "      <td>0.0</td>\n",
       "      <td>3</td>\n",
       "      <td>2</td>\n",
       "      <td>1</td>\n",
       "    </tr>\n",
       "    <tr>\n",
       "      <td>46</td>\n",
       "      <td>1</td>\n",
       "      <td>1</td>\n",
       "      <td>1</td>\n",
       "      <td>2</td>\n",
       "      <td>5649</td>\n",
       "      <td>0.000000</td>\n",
       "      <td>44.0</td>\n",
       "      <td>360.0</td>\n",
       "      <td>1.0</td>\n",
       "      <td>3</td>\n",
       "      <td>1</td>\n",
       "      <td>1</td>\n",
       "    </tr>\n",
       "  </tbody>\n",
       "</table>\n",
       "<p>123 rows × 12 columns</p>\n",
       "</div>"
      ],
      "text/plain": [
       "     Gender  Married  Education  Self_Employed  ApplicantIncome  \\\n",
       "316       1        1          1              2             3717   \n",
       "517       1        1          2              2             3074   \n",
       "24        1        1          1              2             3717   \n",
       "78        1        1          1              2             3167   \n",
       "1         1        1          1              2             4583   \n",
       "..      ...      ...        ...            ...              ...   \n",
       "282       1        1          1              2             2301   \n",
       "573       1        1          2              2             6125   \n",
       "13        1        2          1              2             1853   \n",
       "180       1        1          1              2             6400   \n",
       "46        1        1          1              2             5649   \n",
       "\n",
       "     CoapplicantIncome  LoanAmount  Loan_Amount_Term  Credit_History  \\\n",
       "316           0.000000       120.0             360.0             1.0   \n",
       "517        1800.000000       123.0             360.0             0.0   \n",
       "24         2925.000000       151.0             360.0             1.0   \n",
       "78         4000.000000       180.0             300.0             0.0   \n",
       "1          1508.000000       128.0             360.0             1.0   \n",
       "..                 ...         ...               ...             ...   \n",
       "282         985.799988        78.0             180.0             1.0   \n",
       "573        1625.000000       187.0             480.0             1.0   \n",
       "13         2840.000000       114.0             360.0             1.0   \n",
       "180        7250.000000       180.0             360.0             0.0   \n",
       "46            0.000000        44.0             360.0             1.0   \n",
       "\n",
       "     Property_Area  Loan_Status  Dependents  \n",
       "316              2            1           2  \n",
       "517              2            2           0  \n",
       "24               2            2           1  \n",
       "78               2            2           3  \n",
       "1                1            2           1  \n",
       "..             ...          ...         ...  \n",
       "282              3            1           2  \n",
       "573              2            2           2  \n",
       "13               1            2           0  \n",
       "180              3            2           1  \n",
       "46               3            1           1  \n",
       "\n",
       "[123 rows x 12 columns]"
      ]
     },
     "execution_count": 251,
     "metadata": {},
     "output_type": "execute_result"
    }
   ],
   "source": [
    "x_train, x_test = train_test_split(loan, test_size=0.2)\n",
    "x_test"
   ]
  },
  {
   "cell_type": "code",
   "execution_count": 252,
   "metadata": {},
   "outputs": [],
   "source": [
    "y = loan['Loan_Status']\n",
    "x = loan.drop('Loan_Status',axis=1)"
   ]
  },
  {
   "cell_type": "code",
   "execution_count": 253,
   "metadata": {},
   "outputs": [],
   "source": [
    "x_train, x_test, y_train, y_test = train_test_split(x,y,test_size=0.2,random_state=0)"
   ]
  },
  {
   "cell_type": "markdown",
   "metadata": {},
   "source": [
    "## Model Building"
   ]
  },
  {
   "cell_type": "code",
   "execution_count": 254,
   "metadata": {},
   "outputs": [
    {
     "name": "stderr",
     "output_type": "stream",
     "text": [
      "C:\\Users\\admin\\Anaconda3\\lib\\site-packages\\sklearn\\linear_model\\logistic.py:432: FutureWarning: Default solver will be changed to 'lbfgs' in 0.22. Specify a solver to silence this warning.\n",
      "  FutureWarning)\n"
     ]
    },
    {
     "data": {
      "text/plain": [
       "LogisticRegression(C=1.0, class_weight=None, dual=False, fit_intercept=True,\n",
       "                   intercept_scaling=1, l1_ratio=None, max_iter=100,\n",
       "                   multi_class='warn', n_jobs=None, penalty='l2',\n",
       "                   random_state=None, solver='warn', tol=0.0001, verbose=0,\n",
       "                   warm_start=False)"
      ]
     },
     "execution_count": 254,
     "metadata": {},
     "output_type": "execute_result"
    }
   ],
   "source": [
    "log_reg = LogisticRegression()\n",
    "log_reg.fit(x_train,y_train)"
   ]
  },
  {
   "cell_type": "code",
   "execution_count": 255,
   "metadata": {},
   "outputs": [
    {
     "name": "stderr",
     "output_type": "stream",
     "text": [
      "C:\\Users\\admin\\Anaconda3\\lib\\site-packages\\sklearn\\svm\\base.py:929: ConvergenceWarning: Liblinear failed to converge, increase the number of iterations.\n",
      "  \"the number of iterations.\", ConvergenceWarning)\n"
     ]
    },
    {
     "data": {
      "text/plain": [
       "LinearSVC(C=1.0, class_weight=None, dual=True, fit_intercept=True,\n",
       "          intercept_scaling=1, loss='squared_hinge', max_iter=100,\n",
       "          multi_class='ovr', penalty='l2', random_state=None, tol=0.0001,\n",
       "          verbose=0)"
      ]
     },
     "execution_count": 255,
     "metadata": {},
     "output_type": "execute_result"
    }
   ],
   "source": [
    "svm = LinearSVC(max_iter=100)\n",
    "svm.fit(x_train,y_train)"
   ]
  },
  {
   "cell_type": "code",
   "execution_count": 256,
   "metadata": {},
   "outputs": [
    {
     "data": {
      "text/plain": [
       "KNeighborsClassifier(algorithm='auto', leaf_size=30, metric='minkowski',\n",
       "                     metric_params=None, n_jobs=None, n_neighbors=5, p=2,\n",
       "                     weights='uniform')"
      ]
     },
     "execution_count": 256,
     "metadata": {},
     "output_type": "execute_result"
    }
   ],
   "source": [
    "knn = KNeighborsClassifier()\n",
    "knn.fit(x_train,y_train)"
   ]
  },
  {
   "cell_type": "code",
   "execution_count": 257,
   "metadata": {},
   "outputs": [
    {
     "data": {
      "text/plain": [
       "DecisionTreeClassifier(class_weight=None, criterion='gini', max_depth=None,\n",
       "                       max_features=None, max_leaf_nodes=None,\n",
       "                       min_impurity_decrease=0.0, min_impurity_split=None,\n",
       "                       min_samples_leaf=1, min_samples_split=2,\n",
       "                       min_weight_fraction_leaf=0.0, presort=False,\n",
       "                       random_state=None, splitter='best')"
      ]
     },
     "execution_count": 257,
     "metadata": {},
     "output_type": "execute_result"
    }
   ],
   "source": [
    "dt = DecisionTreeClassifier()\n",
    "dt.fit(x_train,y_train)"
   ]
  },
  {
   "cell_type": "code",
   "execution_count": 258,
   "metadata": {},
   "outputs": [
    {
     "name": "stdout",
     "output_type": "stream",
     "text": [
      "1\n",
      "1\n",
      "1\n",
      "2\n"
     ]
    }
   ],
   "source": [
    "pred_lg = log_reg.predict(x_test)\n",
    "pred_svm = svm.predict(x_test)\n",
    "pred_knn = knn.predict(x_test)\n",
    "pred_dt = dt.predict(x_test)\n",
    "print(pred_lg[2])\n",
    "print(pred_svm[2])\n",
    "print(pred_knn[2])\n",
    "print(pred_dt[2])"
   ]
  },
  {
   "cell_type": "markdown",
   "metadata": {},
   "source": [
    "- From above predictions we observe that for 2nd index in x_test Logistic, SVM, KNN have classified in 1 category i.e 'Y' whereas Decision tree classified as 'N'"
   ]
  },
  {
   "cell_type": "markdown",
   "metadata": {},
   "source": [
    "## Model Evaluation"
   ]
  },
  {
   "cell_type": "code",
   "execution_count": 259,
   "metadata": {},
   "outputs": [
    {
     "name": "stdout",
     "output_type": "stream",
     "text": [
      "Logistic \n",
      " 0.8373983739837398\n",
      "\n",
      "\n",
      "SVM \n",
      " 0.7317073170731707\n",
      "\n",
      "\n",
      "KNN \n",
      " 0.6504065040650406\n",
      "\n",
      "\n",
      "Decision Tree \n",
      " 0.6829268292682927\n"
     ]
    }
   ],
   "source": [
    "print(\"Logistic \\n\",accuracy_score(y_test, pred_lg))\n",
    "print(\"\\n\\nSVM \\n\",accuracy_score(y_test, pred_svm))\n",
    "print(\"\\n\\nKNN \\n\",accuracy_score(y_test, pred_knn))\n",
    "print(\"\\n\\nDecision Tree \\n\",accuracy_score(y_test, pred_dt))"
   ]
  },
  {
   "cell_type": "code",
   "execution_count": 260,
   "metadata": {},
   "outputs": [
    {
     "name": "stdout",
     "output_type": "stream",
     "text": [
      "Logistic \n",
      "               precision    recall  f1-score   support\n",
      "\n",
      "           1       0.83      0.98      0.90        90\n",
      "           2       0.88      0.45      0.60        33\n",
      "\n",
      "    accuracy                           0.84       123\n",
      "   macro avg       0.86      0.72      0.75       123\n",
      "weighted avg       0.84      0.84      0.82       123\n",
      "\n",
      "\n",
      "\n",
      "SVM \n",
      "               precision    recall  f1-score   support\n",
      "\n",
      "           1       0.73      1.00      0.85        90\n",
      "           2       0.00      0.00      0.00        33\n",
      "\n",
      "    accuracy                           0.73       123\n",
      "   macro avg       0.37      0.50      0.42       123\n",
      "weighted avg       0.54      0.73      0.62       123\n",
      "\n",
      "\n",
      "\n",
      "KNN \n",
      "               precision    recall  f1-score   support\n",
      "\n",
      "           1       0.74      0.81      0.77        90\n",
      "           2       0.29      0.21      0.25        33\n",
      "\n",
      "    accuracy                           0.65       123\n",
      "   macro avg       0.51      0.51      0.51       123\n",
      "weighted avg       0.62      0.65      0.63       123\n",
      "\n",
      "\n",
      "\n",
      "Decision Tree \n",
      "               precision    recall  f1-score   support\n",
      "\n",
      "           1       0.82      0.72      0.77        90\n",
      "           2       0.43      0.58      0.49        33\n",
      "\n",
      "    accuracy                           0.68       123\n",
      "   macro avg       0.63      0.65      0.63       123\n",
      "weighted avg       0.72      0.68      0.70       123\n",
      "\n"
     ]
    },
    {
     "name": "stderr",
     "output_type": "stream",
     "text": [
      "C:\\Users\\admin\\Anaconda3\\lib\\site-packages\\sklearn\\metrics\\classification.py:1437: UndefinedMetricWarning: Precision and F-score are ill-defined and being set to 0.0 in labels with no predicted samples.\n",
      "  'precision', 'predicted', average, warn_for)\n"
     ]
    }
   ],
   "source": [
    "print(\"Logistic \\n\",classification_report(y_test, pred_lg))\n",
    "print(\"\\n\\nSVM \\n\",classification_report(y_test, pred_svm))\n",
    "print(\"\\n\\nKNN \\n\",classification_report(y_test, pred_knn))\n",
    "print(\"\\n\\nDecision Tree \\n\",classification_report(y_test, pred_dt))"
   ]
  },
  {
   "cell_type": "markdown",
   "metadata": {},
   "source": [
    "## Improving accuracy of Models\n",
    "- Above evaluated models differ from each other with Logistic as most accurate and KNN the least"
   ]
  },
  {
   "cell_type": "code",
   "execution_count": 261,
   "metadata": {},
   "outputs": [
    {
     "name": "stdout",
     "output_type": "stream",
     "text": [
      "1\n",
      "2\n"
     ]
    }
   ],
   "source": [
    "# Bagging\n",
    "bag_clf = BaggingClassifier(\n",
    "    DecisionTreeClassifier(random_state=29), n_estimators=500,\n",
    "    max_samples=100, bootstrap=True, n_jobs=-1, random_state=29\n",
    ")\n",
    "\n",
    "bag_clf.fit(x_train, y_train)\n",
    "pred_bagging = bag_clf.predict(x_test)\n",
    "print(pred_bagging[2])\n",
    "print(pred_dt[2])"
   ]
  },
  {
   "cell_type": "code",
   "execution_count": 262,
   "metadata": {},
   "outputs": [
    {
     "name": "stdout",
     "output_type": "stream",
     "text": [
      "1\n"
     ]
    }
   ],
   "source": [
    "# Boosting\n",
    "ada_clf = AdaBoostClassifier(\n",
    "    DecisionTreeClassifier(max_depth=1), n_estimators=200,\n",
    "    learning_rate=0.5, random_state=50\n",
    ")\n",
    "\n",
    "ada_clf.fit(x_train, y_train)\n",
    "pred_boosting = ada_clf.predict(x_test)\n",
    "print(pred_boosting[2])"
   ]
  },
  {
   "cell_type": "markdown",
   "metadata": {},
   "source": [
    "### Decision Tree with accuracy 69 % classifies 2nd index as 'N' while Bagging and Boosting with improved accuracy of 82% classifies as 1 "
   ]
  },
  {
   "cell_type": "code",
   "execution_count": 263,
   "metadata": {},
   "outputs": [
    {
     "name": "stdout",
     "output_type": "stream",
     "text": [
      "Bagging accuracy: 0.8292682926829268\n",
      "Boosting accuracy: 0.8292682926829268\n",
      "\n",
      "\n",
      "               precision    recall  f1-score   support\n",
      "\n",
      "           1       0.82      0.98      0.89        90\n",
      "           2       0.88      0.42      0.57        33\n",
      "\n",
      "    accuracy                           0.83       123\n",
      "   macro avg       0.85      0.70      0.73       123\n",
      "weighted avg       0.84      0.83      0.81       123\n",
      "\n",
      "\n",
      "\n",
      "               precision    recall  f1-score   support\n",
      "\n",
      "           1       0.84      0.94      0.89        90\n",
      "           2       0.77      0.52      0.62        33\n",
      "\n",
      "    accuracy                           0.83       123\n",
      "   macro avg       0.81      0.73      0.75       123\n",
      "weighted avg       0.82      0.83      0.82       123\n",
      "\n"
     ]
    }
   ],
   "source": [
    "print(\"Bagging accuracy:\",accuracy_score(y_test, pred_bagging))\n",
    "print(\"Boosting accuracy:\",accuracy_score(y_test, pred_boosting))\n",
    "print(\"\\n\\n\",classification_report(y_test, pred_bagging))\n",
    "print(\"\\n\\n\",classification_report(y_test, pred_boosting))"
   ]
  },
  {
   "cell_type": "markdown",
   "metadata": {},
   "source": [
    "## Comparing using confusion matrix"
   ]
  },
  {
   "cell_type": "code",
   "execution_count": 264,
   "metadata": {},
   "outputs": [
    {
     "name": "stdout",
     "output_type": "stream",
     "text": [
      "Decision Tree\n",
      " [[65 25]\n",
      " [14 19]]\n",
      "\n",
      "Bagging\n",
      " [[88  2]\n",
      " [19 14]]\n",
      "\n",
      "Boosting\n",
      " [[85  5]\n",
      " [16 17]]\n"
     ]
    }
   ],
   "source": [
    "print(\"Decision Tree\\n\",cm(y_test, pred_dt))\n",
    "print(\"\\nBagging\\n\",cm(y_test, pred_bagging))\n",
    "print(\"\\nBoosting\\n\",cm(y_test, pred_boosting))"
   ]
  },
  {
   "cell_type": "markdown",
   "metadata": {},
   "source": [
    "### When compared to Bagging and Ada boost method Bagging is more optimal"
   ]
  },
  {
   "cell_type": "code",
   "execution_count": null,
   "metadata": {},
   "outputs": [],
   "source": []
  }
 ],
 "metadata": {
  "kernelspec": {
   "display_name": "Python 3",
   "language": "python",
   "name": "python3"
  },
  "language_info": {
   "codemirror_mode": {
    "name": "ipython",
    "version": 3
   },
   "file_extension": ".py",
   "mimetype": "text/x-python",
   "name": "python",
   "nbconvert_exporter": "python",
   "pygments_lexer": "ipython3",
   "version": "3.7.4"
  }
 },
 "nbformat": 4,
 "nbformat_minor": 2
}
